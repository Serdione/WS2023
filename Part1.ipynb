{
 "cells": [
  {
   "cell_type": "code",
   "execution_count": 1,
   "id": "e78a91f9",
   "metadata": {},
   "outputs": [],
   "source": [
    "#Все необходимые импорты\n",
    "import pandas as pd\n",
    "import numpy as np\n",
    "import matplotlib.pyplot as plt\n",
    "from collections import Counter\n",
    "import seaborn as sns\n",
    "from fitter import Fitter\n",
    "import warnings\n",
    "import time\n",
    "warnings.filterwarnings('ignore')\n",
    "pd.set_option('display.max_columns', None)"
   ]
  },
  {
   "cell_type": "code",
   "execution_count": null,
   "id": "5d4d6af5",
   "metadata": {},
   "outputs": [],
   "source": [
    "#Вывод информации для одного файла\n",
    "df_ = pd.read_table('dir/name.txt', delimiter = ',') \n",
    "print(df_)\n",
    "out = pd.read_table('data1.txt', delimiter = ',')\n",
    "print(out[['', '', '']].iloc[0])"
   ]
  },
  {
   "cell_type": "code",
   "execution_count": null,
   "id": "51f9322b",
   "metadata": {},
   "outputs": [],
   "source": [
    "#Вывод описания \n",
    "df = pd.read_csv('dataset5.csv')\n",
    "df.describe(include='all')"
   ]
  },
  {
   "cell_type": "code",
   "execution_count": null,
   "id": "c4fb653a",
   "metadata": {},
   "outputs": [],
   "source": [
    "#Запись данных в файл\n",
    "out = pd.read_table('data4.txt', delimiter = ',')\n",
    "df[\"Survival\"] = out[\"Survival\"]\n",
    "df[\"In-hospital_death\"] = out[\"In-hospital_death\"]\n",
    "print(df)\n",
    "df.to_csv('dataset.csv', index=False)"
   ]
  },
  {
   "cell_type": "code",
   "execution_count": null,
   "id": "35fea217",
   "metadata": {},
   "outputs": [],
   "source": [
    "# Распределение данных по встречаемости\n",
    "out = pd.read_table('data2.txt', delimiter = ',')\n",
    "RIDs = out[\"head\"]\n",
    "n = len(RIDs)\n",
    "x = Counter()\n",
    "for rid in RIDs:\n",
    "    df_ = pd.read_table('set/' + str(rid) + '.txt', delimiter = ',') \n",
    "    x = x + Counter(df_[\"Parameter\"])\n",
    "\n",
    "unique_parameters = list(x.keys())\n",
    "one_params = []\n",
    "mean_params = []\n",
    "rare_params = []\n",
    "median_params = []\n",
    "for parameter in unique_parameters:\n",
    "    if x[parameter] / n > 10:\n",
    "        median_params.append(parameter)\n",
    "    elif x[parameter] / n > 1:\n",
    "        mean_params.append(parameter)\n",
    "    elif x[parameter] / n < 1:\n",
    "        rare_params.append(parameter)\n",
    "    else:\n",
    "        one_params.append(parameter)\n",
    "        \n",
    "feature_list = one_params + rare_params + mean_params + median_params"
   ]
  },
  {
   "cell_type": "code",
   "execution_count": null,
   "id": "41dbc043",
   "metadata": {},
   "outputs": [],
   "source": [
    "#Усреднение распределенных данных\n",
    "df = pd.DataFrame(columns = feature_list, index = range(n))\n",
    "for i, rid in enumerate(RIDs):\n",
    "    df_ = pd.read_table('dir3/' + str(rid) + '.txt', delimiter = ',')\n",
    "    df_edited = pd.DataFrame(0, index = range(1), columns = feature_list)\n",
    "    for parameter in one_params:\n",
    "        df_edited[parameter] = df_['Value'].where(df_[\"Parameter\"] == parameter).sum()\n",
    "    for parameter in rare_params:\n",
    "        df_edited[parameter] = df_['Value'].where(df_[\"Parameter\"] == parameter).mean()\n",
    "    for parameter in mean_params:\n",
    "        df_edited[parameter] = (df_['Value'].where(df_[\"Parameter\"] == parameter)).mean()\n",
    "    for parameter in median_params: \n",
    "        df_edited[parameter] = (df_['Value'].where(df_[\"Parameter\"] == parameter)).median()\n",
    "    df.loc[i, feature_list] = df_edited.iloc[0].values"
   ]
  },
  {
   "cell_type": "code",
   "execution_count": null,
   "id": "0d4baa61",
   "metadata": {},
   "outputs": [],
   "source": [
    "# Вывод распределенных параметров и описание датасета\n",
    "print(\"rare_params: \", rare_params)\n",
    "print(\"mean_params: \", mean_params)\n",
    "print(\"one_params6: \", one_params)\n",
    "print(\"median_params: \", median_params)\n",
    "df.columns\n",
    "df.info()"
   ]
  }
 ],
 "metadata": {
  "kernelspec": {
   "display_name": "Python 3 (ipykernel)",
   "language": "python",
   "name": "python3"
  },
  "language_info": {
   "codemirror_mode": {
    "name": "ipython",
    "version": 3
   },
   "file_extension": ".py",
   "mimetype": "text/x-python",
   "name": "python",
   "nbconvert_exporter": "python",
   "pygments_lexer": "ipython3",
   "version": "3.11.3"
  }
 },
 "nbformat": 4,
 "nbformat_minor": 5
}
