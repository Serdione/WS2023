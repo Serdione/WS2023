{
 "cells": [
  {
   "cell_type": "code",
   "execution_count": null,
   "id": "23bfa438",
   "metadata": {},
   "outputs": [],
   "source": [
    "#Считывание из файла\n",
    "df = pd.read_csv('dataset.csv')\n",
    "df.info()"
   ]
  },
  {
   "cell_type": "code",
   "execution_count": null,
   "id": "7188eed1",
   "metadata": {},
   "outputs": [],
   "source": [
    "#Обработка данных\n",
    "df[\"head\"] = df[\"head\"].replace(-1, np.NaN) #Замена отсутствующих значений на NaN\n",
    "df[\"head\"] = df[\"head\"] > 0 #Перевод в булевые значения\n",
    "df = df.drop(columns = [\"Trash\"]) #Удаление лишнего\n",
    "df.info()\n",
    "print(df.duplicated().any()) #Проверка на дубликаты\n",
    "df.dropna(how='all') #Проверка на пустые записи (thresh = n)"
   ]
  },
  {
   "cell_type": "code",
   "execution_count": null,
   "id": "357ea8d9",
   "metadata": {},
   "outputs": [],
   "source": [
    "#Рассчёт процента NaN данных\n",
    "df_count = len(df)\n",
    "print (\"{:<45} {:<10} {:<10}\".format('Характеристика', 'Кол-во NaN', 'Процент NaN')) \n",
    "for column in df.columns: \n",
    "    print(\"{:<50} {:<10} {:<10}\".format(column, df[column].isnull().sum(), round(100 * df[column].isnull().sum() / df_count)))\n",
    "df = df.drop(columns=[\"1\", \"2\"]) # Удаление строчек с % NaN >= 35"
   ]
  },
  {
   "cell_type": "code",
   "execution_count": null,
   "id": "4456e0a6",
   "metadata": {},
   "outputs": [],
   "source": [
    "plt.plot((df.isnull().sum(axis = 1)).sort_values().values) #Вывод графика\n",
    "\n",
    "df = df[df.isnull().sum(axis = 1) / len(df.columns) < 0.35]\n",
    "df"
   ]
  },
  {
   "cell_type": "code",
   "execution_count": null,
   "id": "4c311ed1",
   "metadata": {},
   "outputs": [],
   "source": [
    "for column in df.columns:\n",
    "    plt.figure()\n",
    "    df.boxplot([column])\n",
    "plt.show() #Вывод графика ящик с усами"
   ]
  },
  {
   "cell_type": "code",
   "execution_count": null,
   "id": "39a5ed2b",
   "metadata": {},
   "outputs": [],
   "source": [
    "for column in df.columns: #Обработка выбросов и аномалий\n",
    "    if column not in [\"SL\", \"IHD\"] and df.dtypes[column] != 'bool':\n",
    "        values = df[column] \n",
    "        q1, q3 = values.quantile([0.25, 0.75])\n",
    "        low  = q1 - (q3 - q1) * 5\n",
    "        high = q3 + (q3 - q1) * 5\n",
    "        condition = (values < low) | (values > high)\n",
    "        values[condition] = np.nan\n",
    "df"
   ]
  },
  {
   "cell_type": "code",
   "execution_count": null,
   "id": "90bfd0e8",
   "metadata": {},
   "outputs": [],
   "source": [
    "df.describe() #Описание и оценка характеристик\n",
    "df[\"SL\"][df[\"SL\"] < -1] = -1"
   ]
  },
  {
   "cell_type": "code",
   "execution_count": null,
   "id": "1faba84f",
   "metadata": {},
   "outputs": [],
   "source": [
    "data = df.to_numpy() # Построение гистограмм\n",
    "figure, axis = plt.subplots((df.dtypes=='float64').sum(), 1)\n",
    "figure.set_size_inches(15, 250)\n",
    "i = 0\n",
    "for column in df.columns:\n",
    "    if df.dtypes[column]=='float64':\n",
    "        s = pd.Series(data[:, df.columns.get_loc(column)])\n",
    "        axis[i].hist(s, bins = 10, log = True)\n",
    "        axis[i].set_title(column)\n",
    "        i += 1\n",
    "plt.show() #Для визуальной оценки графиков"
   ]
  },
  {
   "cell_type": "code",
   "execution_count": null,
   "id": "d1ba306a",
   "metadata": {},
   "outputs": [],
   "source": [
    "i = 0 #Алгоритм рассчёта распределения данных\n",
    "f = [None] * (df.dtypes=='float64').sum()\n",
    "for column in df.columns:\n",
    "    if df.dtypes[column]=='float64':\n",
    "        f[i] = Fitter(df[column][~df[column].isnull()],\n",
    "                   distributions=[\"expon\", \"uniform\", \"norm\", \"lognorm\"],\n",
    "                   bins = 15)\n",
    "        time.sleep(0.2)\n",
    "        f[i].fit()\n",
    "        print(column)\n",
    "        print(f[i].summary()['sumsquare_error'])\n",
    "        i += 1  \n",
    "#f[n].summary() для вывода отдельных примеров"
   ]
  },
  {
   "cell_type": "code",
   "execution_count": null,
   "id": "b3827fdf",
   "metadata": {},
   "outputs": [],
   "source": [
    "for column in df.columns: #Заполнение NaN значений\n",
    "    if column not in [\"RecordID\"]:\n",
    "        values = df[column] \n",
    "        E = values.mean()\n",
    "        D = values.var()\n",
    "        sigma = np.log(D / (E ** 2) + 1) ** 0.5\n",
    "        mu = np.log(E) - (sigma ** 2) / 2\n",
    "        condition = values.isna()\n",
    "        new_values =  abs(np.random.lognormal(mu, sigma, len(df.index)))\n",
    "        values[condition] = new_values[condition]\n",
    "df\n",
    "# Проверка, что NaN больше нет в датасете\n",
    "df.isna().sum().sum()"
   ]
  },
  {
   "cell_type": "code",
   "execution_count": null,
   "id": "0e0de967",
   "metadata": {},
   "outputs": [],
   "source": [
    "corr = df.corr() # Вывод матрицы корреляций\n",
    "fig, ax = plt.subplots(figsize=(15, 10)) \n",
    "sns.heatmap(corr, ax=ax, xticklabels=True, yticklabels=True)"
   ]
  },
  {
   "cell_type": "code",
   "execution_count": null,
   "id": "812601c9",
   "metadata": {},
   "outputs": [],
   "source": [
    "# Пример-проверка, что NaN удалились в столбце, где изначально было 77% NaN\n",
    "data = df.to_numpy()\n",
    "figure, axis = plt.subplots(1, 1)\n",
    "figure.set_size_inches(15, 5)\n",
    "s = pd.Series(data[:, df.columns.get_loc(\"1\")])\n",
    "print(len(s), len(df.index))\n",
    "axis.hist(s, bins = 10, log = True)\n",
    "axis.set_title(\"1\")\n",
    "plt.show()\n",
    "df.to_csv('dataset2.csv', index = False)"
   ]
  }
 ],
 "metadata": {
  "kernelspec": {
   "display_name": "Python 3 (ipykernel)",
   "language": "python",
   "name": "python3"
  },
  "language_info": {
   "codemirror_mode": {
    "name": "ipython",
    "version": 3
   },
   "file_extension": ".py",
   "mimetype": "text/x-python",
   "name": "python",
   "nbconvert_exporter": "python",
   "pygments_lexer": "ipython3",
   "version": "3.11.3"
  }
 },
 "nbformat": 4,
 "nbformat_minor": 5
}
