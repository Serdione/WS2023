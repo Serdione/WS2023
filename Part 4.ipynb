{
 "cells": [
  {
   "cell_type": "code",
   "execution_count": 1,
   "id": "5c62cb90",
   "metadata": {},
   "outputs": [],
   "source": [
    "#Импорт необходимых библиотек\n",
    "from sklearn.neural_network import MLPClassifier\n",
    "from sklearn.neighbors import KNeighborsClassifier\n",
    "from sklearn.svm import SVC\n",
    "from sklearn.gaussian_process import GaussianProcessClassifier\n",
    "from sklearn.gaussian_process.kernels import RBF\n",
    "from sklearn.tree import DecisionTreeClassifier\n",
    "from sklearn.ensemble import RandomForestClassifier, AdaBoostClassifier\n",
    "from sklearn.naive_bayes import GaussianNB\n",
    "from sklearn.discriminant_analysis import QuadraticDiscriminantAnalysis\n",
    "from sklearn.model_selection import GridSearchCV\n",
    "from sklearn.metrics import f1_score, accuracy_score, balanced_accuracy_score, precision_score, recall_score\n",
    "from sklearn import metrics"
   ]
  },
  {
   "cell_type": "code",
   "execution_count": null,
   "id": "93d761a7",
   "metadata": {},
   "outputs": [],
   "source": [
    "names = [\n",
    "    \"Nearest Neighbors\",\n",
    "    \"Linear SVM\",\n",
    "    \"RBF SVM\",\n",
    "    \"Gaussian Process\",\n",
    "    \"Decision Tree\",\n",
    "    \"Random Forest\",\n",
    "    \"Neural Net\",\n",
    "    \"AdaBoost\",\n",
    "    \"Naive Bayes\",\n",
    "    \"QDA\",\n",
    "]\n",
    "\n",
    "classifiers = [\n",
    "    KNeighborsClassifier(3),\n",
    "    SVC(kernel=\"linear\", C=0.025),\n",
    "    SVC(gamma=2, C=1),\n",
    "    GaussianProcessClassifier(1.0 * RBF(1.0)),\n",
    "    DecisionTreeClassifier(max_depth=5),\n",
    "    RandomForestClassifier(max_depth=5, n_estimators=10, max_features=1),\n",
    "    MLPClassifier(alpha=1, max_iter=1000),\n",
    "    AdaBoostClassifier(),\n",
    "    GaussianNB(),\n",
    "    QuadraticDiscriminantAnalysis(),\n",
    "]\n",
    "\n",
    "for name, clf in zip(names, classifiers):\n",
    "    clf.fit(X_train_cls, y_train_cls)\n",
    "    pred_cls = clf.predict(X_val_cls)\n",
    "    score = f1_score(y_val_cls, pred_cls)\n",
    "    print(name, score)"
   ]
  },
  {
   "cell_type": "code",
   "execution_count": null,
   "id": "bf40bc14",
   "metadata": {},
   "outputs": [],
   "source": [
    "parameters = {'max_depth':[9, 11, 13], 'n_estimators':[100, 200, 300], 'max_features': ['sqrt', 'log2']}\n",
    "\n",
    "clf = GridSearchCV(estimator=RandomForestClassifier(), param_grid=parameters, scoring='f1')\n",
    "clf.fit(X_train_cls, y_train_cls)\n",
    "\n",
    "results = pd.DataFrame.from_dict(clf.cv_results_)\n",
    "results = results.sort_values('rank_test_score', ignore_index=True)\n",
    "print(results['params'][0])\n",
    "pred_cls = clf.predict(X_val_cls)\n",
    "\n",
    "print(precision_score(y_val_cls, pred_cls))\n",
    "print(recall_score(y_val_cls, pred_cls))\n",
    "print(accuracy_score(y_val_cls, pred_cls))\n",
    "print(f1_score(y_val_cls, pred_cls))\n",
    "print(balanced_accuracy_score(y_val_cls, pred_cls))"
   ]
  },
  {
   "cell_type": "code",
   "execution_count": null,
   "id": "5545ecb1",
   "metadata": {},
   "outputs": [],
   "source": [
    "pred_cls = clf.predict_proba(X_val_cls)\n",
    "fpr, tpr, _ = metrics.roc_curve(y_val_cls,  pred_cls[:, 1])\n",
    "auc = metrics.roc_auc_score(y_val_cls, pred_cls[:, 1])\n",
    "\n",
    "plt.plot(fpr, tpr, label=\"AUC=\"+str(auc))\n",
    "plt.ylabel('True Positive Rate')\n",
    "plt.xlabel('False Positive Rate')\n",
    "plt.legend(loc=4)\n",
    "plt.show()"
   ]
  },
  {
   "cell_type": "code",
   "execution_count": null,
   "id": "a2ae1c90",
   "metadata": {},
   "outputs": [],
   "source": [
    "parameters = {'hidden_layer_sizes':[(20,), (40,), (100,)], 'activation':['identity', 'relu']}\n",
    "\n",
    "clf = GridSearchCV(estimator=MLPClassifier(), param_grid=parameters, scoring='f1')\n",
    "clf.fit(X_train_cls, y_train_cls)\n",
    "\n",
    "results = pd.DataFrame.from_dict(clf.cv_results_)\n",
    "results = results.sort_values('rank_test_score', ignore_index=True)\n",
    "print(results['params'][0])\n",
    "pred_cls = clf.predict(X_val_cls)\n",
    "\n",
    "print(precision_score(y_val_cls, pred_cls))\n",
    "print(recall_score(y_val_cls, pred_cls))\n",
    "print(accuracy_score(y_val_cls, pred_cls))\n",
    "print(f1_score(y_val_cls, pred_cls))\n",
    "print(balanced_accuracy_score(y_val_cls, pred_cls))"
   ]
  },
  {
   "cell_type": "code",
   "execution_count": null,
   "id": "12d5b45b",
   "metadata": {},
   "outputs": [],
   "source": [
    "pred_cls = clf.predict_proba(X_val_cls)\n",
    "fpr, tpr, _ = metrics.roc_curve(y_val_cls,  pred_cls[:, 1])\n",
    "auc = metrics.roc_auc_score(y_val_cls, pred_cls[:, 1])\n",
    "\n",
    "plt.plot(fpr, tpr, label=\"AUC=\"+str(auc))\n",
    "plt.ylabel('True Positive Rate')\n",
    "plt.xlabel('False Positive Rate')\n",
    "plt.legend(loc=4)\n",
    "plt.show()"
   ]
  },
  {
   "cell_type": "code",
   "execution_count": null,
   "id": "9bfe1cea",
   "metadata": {},
   "outputs": [],
   "source": [
    "parameters = {'var_smoothing':[1e-9, 1e-7, 1e-6, 1e-5]}\n",
    "\n",
    "clf = GridSearchCV(estimator=GaussianNB(), param_grid=parameters, scoring='f1')\n",
    "clf.fit(X_train_cls, y_train_cls)\n",
    "\n",
    "results = pd.DataFrame.from_dict(clf.cv_results_)\n",
    "results = results.sort_values('rank_test_score', ignore_index=True)\n",
    "print(results['params'][0])\n",
    "pred_cls = clf.predict(X_val_cls)\n",
    "\n",
    "print(precision_score(y_val_cls, pred_cls))\n",
    "print(recall_score(y_val_cls, pred_cls))\n",
    "print(accuracy_score(y_val_cls, pred_cls))\n",
    "print(f1_score(y_val_cls, pred_cls))\n",
    "print(balanced_accuracy_score(y_val_cls, pred_cls))"
   ]
  },
  {
   "cell_type": "code",
   "execution_count": null,
   "id": "bea28436",
   "metadata": {},
   "outputs": [],
   "source": [
    "pred_cls = clf.predict_proba(X_val_cls)\n",
    "fpr, tpr, _ = metrics.roc_curve(y_val_cls,  pred_cls[:, 1])\n",
    "auc = metrics.roc_auc_score(y_val_cls, pred_cls[:, 1])\n",
    "\n",
    "plt.plot(fpr, tpr, label=\"AUC=\"+str(auc))\n",
    "plt.ylabel('True Positive Rate')\n",
    "plt.xlabel('False Positive Rate')\n",
    "plt.legend(loc=4)\n",
    "plt.show()"
   ]
  },
  {
   "cell_type": "code",
   "execution_count": null,
   "id": "63ba8047",
   "metadata": {},
   "outputs": [],
   "source": [
    "# Прогноз значения целеовй переменной, качество модели\n",
    "clf = RandomForestClassifier(max_depth=9, n_estimators=300, max_features='log2')\n",
    "clf.fit(X_train_cls, y_train_cls)\n",
    "pred_cls = clf.predict(X_test_cls)\n",
    "\n",
    "print(precision_score(y_test_cls, pred_cls))\n",
    "print(recall_score(y_test_cls, pred_cls))\n",
    "print(accuracy_score(y_test_cls, pred_cls))\n",
    "print(f1_score(y_test_cls, pred_cls))\n",
    "print(balanced_accuracy_score(y_test_cls, pred_cls))"
   ]
  },
  {
   "cell_type": "code",
   "execution_count": null,
   "id": "070e6548",
   "metadata": {},
   "outputs": [],
   "source": [
    "pred_cls = clf.predict_proba(X_val_cls)\n",
    "fpr, tpr, _ = metrics.roc_curve(y_val_cls,  pred_cls[:, 1])\n",
    "auc = metrics.roc_auc_score(y_val_cls, pred_cls[:, 1])\n",
    "\n",
    "plt.plot(fpr, tpr, label=\"AUC=\"+str(auc))\n",
    "plt.ylabel('True Positive Rate')\n",
    "plt.xlabel('False Positive Rate')\n",
    "plt.legend(loc=4)\n",
    "plt.show()"
   ]
  }
 ],
 "metadata": {
  "kernelspec": {
   "display_name": "Python 3 (ipykernel)",
   "language": "python",
   "name": "python3"
  },
  "language_info": {
   "codemirror_mode": {
    "name": "ipython",
    "version": 3
   },
   "file_extension": ".py",
   "mimetype": "text/x-python",
   "name": "python",
   "nbconvert_exporter": "python",
   "pygments_lexer": "ipython3",
   "version": "3.11.3"
  }
 },
 "nbformat": 4,
 "nbformat_minor": 5
}
